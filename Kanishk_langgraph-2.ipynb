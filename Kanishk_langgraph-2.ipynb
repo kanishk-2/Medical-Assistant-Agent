{
  "cells": [
    {
      "cell_type": "markdown",
      "metadata": {
        "id": "K3yWWtQ8cC4i"
      },
      "source": [
        "# STEP 0: Install dependencies"
      ]
    },
    {
      "cell_type": "code",
      "execution_count": null,
      "metadata": {
        "colab": {
          "base_uri": "https://localhost:8080/"
        },
        "id": "kSG-PPjuA24T",
        "outputId": "70dfa1f1-88bf-472e-ac31-a0585024c51d"
      },
      "outputs": [
        {
          "name": "stdout",
          "output_type": "stream",
          "text": [
            "\n",
            "\u001b[1m[\u001b[0m\u001b[34;49mnotice\u001b[0m\u001b[1;39;49m]\u001b[0m\u001b[39;49m A new release of pip is available: \u001b[0m\u001b[31;49m25.0.1\u001b[0m\u001b[39;49m -> \u001b[0m\u001b[32;49m25.2\u001b[0m\n",
            "\u001b[1m[\u001b[0m\u001b[34;49mnotice\u001b[0m\u001b[1;39;49m]\u001b[0m\u001b[39;49m To update, run: \u001b[0m\u001b[32;49mpip install --upgrade pip\u001b[0m\n"
          ]
        }
      ],
      "source": [
        "!pip install -qU google-generativeai==0.8.5 google-ai-generativelanguage==0.6.15 langgraph langchain langchain-google-genai openai\n"
      ]
    },
    {
      "cell_type": "markdown",
      "metadata": {
        "id": "XvoFPl11cFhj"
      },
      "source": [
        "# STEP 1: Imports and secure API key input"
      ]
    },
    {
      "cell_type": "code",
      "execution_count": 4,
      "metadata": {
        "id": "llCizvcFCqFc"
      },
      "outputs": [
        {
          "ename": "ModuleNotFoundError",
          "evalue": "No module named 'langgraph'",
          "output_type": "error",
          "traceback": [
            "\u001b[0;31m---------------------------------------------------------------------------\u001b[0m",
            "\u001b[0;31mModuleNotFoundError\u001b[0m                       Traceback (most recent call last)",
            "Cell \u001b[0;32mIn[4], line 3\u001b[0m\n\u001b[1;32m      1\u001b[0m \u001b[38;5;28;01mimport\u001b[39;00m \u001b[38;5;21;01mos\u001b[39;00m\n\u001b[1;32m      2\u001b[0m \u001b[38;5;28;01mimport\u001b[39;00m \u001b[38;5;21;01mgetpass\u001b[39;00m\n\u001b[0;32m----> 3\u001b[0m \u001b[38;5;28;01mfrom\u001b[39;00m \u001b[38;5;21;01mlanggraph\u001b[39;00m\u001b[38;5;21;01m.\u001b[39;00m\u001b[38;5;21;01mgraph\u001b[39;00m \u001b[38;5;28;01mimport\u001b[39;00m StateGraph, END\n\u001b[1;32m      4\u001b[0m \u001b[38;5;28;01mfrom\u001b[39;00m \u001b[38;5;21;01mlangchain_google_genai\u001b[39;00m \u001b[38;5;28;01mimport\u001b[39;00m ChatGoogleGenerativeAI\n\u001b[1;32m      5\u001b[0m \u001b[38;5;28;01mfrom\u001b[39;00m \u001b[38;5;21;01mlangchain_core\u001b[39;00m\u001b[38;5;21;01m.\u001b[39;00m\u001b[38;5;21;01mmessages\u001b[39;00m \u001b[38;5;28;01mimport\u001b[39;00m HumanMessage\n",
            "\u001b[0;31mModuleNotFoundError\u001b[0m: No module named 'langgraph'"
          ]
        }
      ],
      "source": [
        "import os\n",
        "import getpass\n",
        "from langgraph.graph import StateGraph, END\n",
        "from langchain_google_genai import ChatGoogleGenerativeAI\n",
        "from langchain_core.messages import HumanMessage\n"
      ]
    },
    {
      "cell_type": "markdown",
      "metadata": {
        "id": "W28u20SxcIiH"
      },
      "source": [
        "\n",
        "# Secure Gemini API Key input"
      ]
    },
    {
      "cell_type": "code",
      "execution_count": null,
      "metadata": {
        "colab": {
          "base_uri": "https://localhost:8080/"
        },
        "id": "jP8h2Q4YEyQW",
        "outputId": "e3fe94b0-e248-4b38-8d22-2c49eab270ab"
      },
      "outputs": [
        {
          "ename": "NameError",
          "evalue": "name 'getpass' is not defined",
          "output_type": "error",
          "traceback": [
            "\u001b[0;31m---------------------------------------------------------------------------\u001b[0m",
            "\u001b[0;31mNameError\u001b[0m                                 Traceback (most recent call last)",
            "Cell \u001b[0;32mIn[1], line 1\u001b[0m\n\u001b[0;32m----> 1\u001b[0m os\u001b[38;5;241m.\u001b[39menviron[\u001b[38;5;124m'\u001b[39m\u001b[38;5;124mGOOGLE_API_KEY\u001b[39m\u001b[38;5;124m'\u001b[39m] \u001b[38;5;241m=\u001b[39m getpass\u001b[38;5;241m.\u001b[39mgetpass(\u001b[38;5;124m\"\u001b[39m\u001b[38;5;124m 🫵 \u001b[39m\u001b[38;5;124m\"\u001b[39m)\n",
            "\u001b[0;31mNameError\u001b[0m: name 'getpass' is not defined"
          ]
        }
      ],
      "source": [
        "os.environ['GOOGLE_API_KEY'] = getpass.getpass(\" Enter your Google API Key \")  # Input your Google API key securely"
      ]
    },
    {
      "cell_type": "markdown",
      "metadata": {
        "id": "eusINPuVcLXp"
      },
      "source": [
        "# STEP 2: Initialize Gemini 1.5 Flash"
      ]
    },
    {
      "cell_type": "code",
      "execution_count": null,
      "metadata": {
        "id": "wcPhJyxwGqlM"
      },
      "outputs": [],
      "source": [
        "llm = ChatGoogleGenerativeAI(model = \"models/gemini-1.5-flash-latest\", temperature =0.2)"
      ]
    },
    {
      "cell_type": "markdown",
      "metadata": {
        "id": "o07zbkLWcOVW"
      },
      "source": [
        "# STEP 3: Node to ask user for symptom"
      ]
    },
    {
      "cell_type": "code",
      "execution_count": null,
      "metadata": {
        "id": "1nZc6JI3Ihrp"
      },
      "outputs": [],
      "source": [
        "def get_symptom(state: dict) ->dict:\n",
        "  symptom = input(\"Welcome to XYZ hospital, Please enter your symptom\")\n",
        "  state[\"symptom\"] = symptom\n",
        "  return state"
      ]
    },
    {
      "cell_type": "markdown",
      "metadata": {
        "id": "0KIzyYPVcRVm"
      },
      "source": [
        "# STEP 4: Node to classify the symptom"
      ]
    },
    {
      "cell_type": "code",
      "execution_count": null,
      "metadata": {
        "id": "tC7QsNzfJX0D"
      },
      "outputs": [],
      "source": [
        "def classify_symptom(state: dict) -> dict:\n",
        "  prompt = (\n",
        "      \"You are a helpful Medical Assistant, Classify the symptoms below into one of the categories \\n\"\n",
        "      \"-General\\n -Emergency \\n -mental health \\n\"\n",
        "      f\"Symptom : {state['symptom']} \\n\"\n",
        "      \"Respond only with one word : General, Emergency Or Mental Health\"\n",
        "      \"#Example : input : I have fever, Output : General\"\n",
        "  )\n",
        "  response = llm.invoke([HumanMessage(content=prompt)])\n",
        "  category = response.content.strip()\n",
        "  print(f\"LLM classifies the symptom as : {category}\")  #debug\n",
        "  state[\"category\"] = category\n",
        "  return state"
      ]
    },
    {
      "cell_type": "markdown",
      "metadata": {
        "id": "kESmxbnicWpS"
      },
      "source": [
        "# STEP 5: Router logic to route to the correct node\n"
      ]
    },
    {
      "cell_type": "code",
      "execution_count": null,
      "metadata": {
        "id": "aw-5DRzINCyD"
      },
      "outputs": [],
      "source": [
        "def symptom_router(state:dict) -> dict:\n",
        "  cat = state[\"category\"].lower()   #General, general, Mental mental\n",
        "  if \"general\" in cat:\n",
        "    return\"general\"\n",
        "  elif \"emergency\" in cat:\n",
        "    return\"emergency\"\n",
        "  elif \"mental\" in cat:\n",
        "    return\"mental_health\"\n",
        "  else:\n",
        "    return\"general\""
      ]
    },
    {
      "cell_type": "markdown",
      "metadata": {
        "id": "cZuR4VGscake"
      },
      "source": [
        "# STEP 6: Category-specific response nodes\n"
      ]
    },
    {
      "cell_type": "code",
      "execution_count": null,
      "metadata": {
        "id": "cWwkdHfZOVW1"
      },
      "outputs": [],
      "source": [
        "def general_node(state: dict) -> dict:\n",
        "  state[\"answer\"] = f\" '{state['symptom']}' : seems general : directing you to general ward for consulting a doctor\"\n",
        "  return state\n",
        "\n",
        "def emergency_node(state:dict) -> dict:\n",
        "  state[\"answer\"] =f\" ' {state['symptom']}': It is a Medical Emergency : seeking immediate help\"\n",
        "  return state\n",
        "\n",
        "def mental_health_node(state: dict) -> dict:\n",
        "  state[\"answer\"] = f\" '{state['symptom']}: seems like a medical health issue: talk to our counsellor\"\n",
        "  return state"
      ]
    },
    {
      "cell_type": "markdown",
      "metadata": {
        "id": "I1ek0SwzcehS"
      },
      "source": [
        "# STEP 7: Build LangGraph\n"
      ]
    },
    {
      "cell_type": "code",
      "execution_count": null,
      "metadata": {
        "colab": {
          "base_uri": "https://localhost:8080/"
        },
        "id": "ipep16o4Ppuq",
        "outputId": "41d9582a-5baf-41c0-9e78-7b0cce34f059"
      },
      "outputs": [
        {
          "data": {
            "text/plain": [
              "<langgraph.graph.state.StateGraph at 0x7c3513909890>"
            ]
          },
          "execution_count": 9,
          "metadata": {},
          "output_type": "execute_result"
        }
      ],
      "source": [
        "builder = StateGraph(dict)\n",
        "\n",
        "#define the nodes\n",
        "builder.set_entry_point(\"get_symptom\")\n",
        "builder.add_node(\"get_symptom\", get_symptom)\n",
        "builder.add_node(\"classify\", classify_symptom)\n",
        "builder.add_node(\"general\", general_node)\n",
        "builder.add_node(\"emergency\", emergency_node)\n",
        "builder.add_node(\"mental_health\", mental_health_node)\n",
        "\n",
        "builder.add_edge(\"get_symptom\", \"classify\")\n",
        "builder.add_conditional_edges(\"classify\", symptom_router, {\n",
        "    \"general\": \"general\",\n",
        "    \"emergency\": \"emergency\",\n",
        "    \"mental_health\": \"mental_health\"\n",
        "})\n",
        "\n",
        "builder.add_edge(\"general\", END)\n",
        "builder.add_edge(\"emergency\", END)\n",
        "builder.add_edge(\"mental_health\", END)\n"
      ]
    },
    {
      "cell_type": "markdown",
      "metadata": {
        "id": "GbAgCeZYci5k"
      },
      "source": [
        "# STEP 8: Compile and invoke the graph\n"
      ]
    },
    {
      "cell_type": "code",
      "execution_count": null,
      "metadata": {
        "id": "JvNMukCNUDsY"
      },
      "outputs": [],
      "source": [
        "graph = builder.compile()\n"
      ]
    },
    {
      "cell_type": "code",
      "execution_count": null,
      "metadata": {
        "colab": {
          "base_uri": "https://localhost:8080/"
        },
        "id": "PWqrClB6R-2a",
        "outputId": "c3573137-48a1-4593-8e8b-05f7694733e1"
      },
      "outputs": [
        {
          "name": "stdout",
          "output_type": "stream",
          "text": [
            "Welcome to XYZ hospital, Please enter your symptomcold , cough, vomitting\n",
            "LLM classifies the symptom as : General\n",
            "final Output \n",
            "\n",
            " 'cold , cough, vomitting' : seems general : directing you to general ward for consulting a doctor\n"
          ]
        }
      ],
      "source": [
        "final_state = graph.invoke({})\n",
        "print(\"final Output \\n\")\n",
        "print(final_state[\"answer\"])\n"
      ]
    },
    {
      "cell_type": "code",
      "execution_count": null,
      "metadata": {
        "id": "hsHCqurbVLyS"
      },
      "outputs": [],
      "source": []
    }
  ],
  "metadata": {
    "colab": {
      "provenance": []
    },
    "kernelspec": {
      "display_name": "Python 3",
      "language": "python",
      "name": "python3"
    },
    "language_info": {
      "codemirror_mode": {
        "name": "ipython",
        "version": 3
      },
      "file_extension": ".py",
      "mimetype": "text/x-python",
      "name": "python",
      "nbconvert_exporter": "python",
      "pygments_lexer": "ipython3",
      "version": "3.9.6"
    }
  },
  "nbformat": 4,
  "nbformat_minor": 0
}
